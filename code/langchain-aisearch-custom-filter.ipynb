{
 "cells": [
  {
   "attachments": {},
   "cell_type": "markdown",
   "metadata": {},
   "source": [
    "# Azure AI Search LangChain vector code sample\n",
    "\n",
    "Execution environment used for testing is `python 3.10.0`"
   ]
  },
  {
   "cell_type": "code",
   "execution_count": 10,
   "metadata": {},
   "outputs": [],
   "source": [
    "# pip install -r requirements.txt"
   ]
  },
  {
   "attachments": {},
   "cell_type": "markdown",
   "metadata": {},
   "source": [
    "## Import required libraries and environment variables"
   ]
  },
  {
   "cell_type": "code",
   "execution_count": 4,
   "metadata": {},
   "outputs": [],
   "source": [
    "# Import required libraries  \n",
    "import openai\n",
    "import os  \n",
    "from dotenv import load_dotenv\n",
    "from langchain_community.vectorstores.azuresearch import AzureSearch\n",
    "from langchain.embeddings import OpenAIEmbeddings, AzureOpenAIEmbeddings\n",
    "\n",
    "from azure.search.documents.indexes.models import (\n",
    "    FreshnessScoringFunction,\n",
    "    FreshnessScoringParameters,\n",
    "    ScoringProfile,\n",
    "    SearchableField,\n",
    "    SearchField,\n",
    "    SearchFieldDataType,\n",
    "    SimpleField,\n",
    "    TextWeights,\n",
    "    SemanticSettings,\n",
    "    SemanticConfiguration,\n",
    "    PrioritizedFields,\n",
    "    SemanticField\n",
    ")\n"
   ]
  },
  {
   "cell_type": "markdown",
   "metadata": {},
   "source": [
    "## Configure Azure OpenAI settings"
   ]
  },
  {
   "cell_type": "code",
   "execution_count": 5,
   "metadata": {},
   "outputs": [
    {
     "name": "stdout",
     "output_type": "stream",
     "text": [
      "https://prompton52g-aoai-12.openai.azure.com/\n",
      "2023-10-01-preview\n",
      "text-embedding-ada-002\n"
     ]
    }
   ],
   "source": [
    "# TODO: change to .env-{myname} and set environment variables.\n",
    "load_dotenv(override=True, dotenv_path='../.env-leo')\n",
    "\n",
    "openai.api_type: str = \"azure\"  \n",
    "openai.api_key = os.getenv(\"AZURE_OPENAI_API_KEY\")  \n",
    "openai.api_base = os.getenv(\"AZURE_OPENAI_ENDPOINT\")\n",
    "openai.api_version = os.getenv(\"AZURE_OPENAI_API_VERSION\")  \n",
    "model: str = os.getenv(\"AZURE_OPENAI_EMBEDDING_DEPLOYED_MODEL\")\n",
    "\n",
    "print(openai.api_base)\n",
    "print(openai.api_version)\n",
    "print(model)"
   ]
  },
  {
   "cell_type": "markdown",
   "metadata": {},
   "source": [
    "## Configure vector store settings"
   ]
  },
  {
   "cell_type": "code",
   "execution_count": 6,
   "metadata": {},
   "outputs": [
    {
     "name": "stdout",
     "output_type": "stream",
     "text": [
      "https://prompton52g-aisearch-12.search.windows.net\n",
      "langchain-vector-demo\n"
     ]
    }
   ],
   "source": [
    "vector_store_address: str = os.getenv(\"AZURE_SEARCH_SERVICE_ENDPOINT\")  \n",
    "vector_store_password: str = os.getenv(\"AZURE_SEARCH_ADMIN_KEY\") \n",
    "index_name: str = os.getenv(\"AZURE_SEARCH_INDEX_NAME\") # .env 환경변수에서 자기만의 인덱스 이름을 설정하세요.\n",
    "\n",
    "print(vector_store_address)\n",
    "print(index_name)"
   ]
  },
  {
   "cell_type": "code",
   "execution_count": 7,
   "metadata": {},
   "outputs": [
    {
     "name": "stderr",
     "output_type": "stream",
     "text": [
      "/Users/leo/.pyenv/versions/3.10.0/envs/azure-search-vector-samples/lib/python3.10/site-packages/langchain_core/_api/deprecation.py:189: LangChainDeprecationWarning: The class `AzureOpenAIEmbeddings` was deprecated in LangChain 0.1.0 and will be removed in 0.2.0. Use langchain_openai.AzureOpenAIEmbeddings instead.\n",
      "  warn_deprecated(\n",
      "/Users/leo/.pyenv/versions/3.10.0/envs/azure-search-vector-samples/lib/python3.10/site-packages/langchain_core/_api/deprecation.py:189: LangChainDeprecationWarning: The class `OpenAIEmbeddings` was deprecated in LangChain 0.1.0 and will be removed in 0.2.0. Use langchain_openai.OpenAIEmbeddings instead.\n",
      "  warn_deprecated(\n"
     ]
    }
   ],
   "source": [
    "embeddings: OpenAIEmbeddings = AzureOpenAIEmbeddings(\n",
    "    azure_deployment=model, model=model, chunk_size=1, \n",
    "    azure_endpoint=openai.api_base,\n",
    "    api_key=openai.api_key,\n",
    "    openai_api_type=openai.api_type,\n",
    "    api_version=openai.api_version,\n",
    ")\n",
    "embedding_function = embeddings.embed_query"
   ]
  },
  {
   "cell_type": "code",
   "execution_count": 8,
   "metadata": {},
   "outputs": [],
   "source": [
    "fields = [\n",
    "    SimpleField(\n",
    "        name=\"id\",\n",
    "        type=SearchFieldDataType.String,\n",
    "        key=True,\n",
    "        filterable=True,\n",
    "    ),\n",
    "    SearchableField(\n",
    "        name=\"content\",\n",
    "        type=SearchFieldDataType.String,\n",
    "        searchable=True,\n",
    "    ),\n",
    "    SearchField(\n",
    "        name=\"content_vector\",\n",
    "        type=SearchFieldDataType.Collection(SearchFieldDataType.Single),\n",
    "        searchable=True,\n",
    "        vector_search_dimensions=len(embedding_function(\"Text\")),\n",
    "        vector_search_configuration=\"default\",\n",
    "    ),\n",
    "    SearchableField(\n",
    "        name=\"metadata\",\n",
    "        type=SearchFieldDataType.String,\n",
    "        searchable=True,\n",
    "    ),\n",
    "    # Additional field to store the title\n",
    "    SearchableField(\n",
    "        name=\"title\",\n",
    "        type=SearchFieldDataType.String,\n",
    "        searchable=True,\n",
    "    ),\n",
    "    # Additional field for filtering on document source\n",
    "    SimpleField(\n",
    "        name=\"source\",\n",
    "        type=SearchFieldDataType.String,\n",
    "        filterable=True, # 이 파라미터가 True여야 필터링이 가능함\n",
    "    ),\n",
    "    # Additional data field for last doc update\n",
    "    SimpleField(\n",
    "        name=\"last_update\",\n",
    "        type=SearchFieldDataType.DateTimeOffset,\n",
    "        searchable=True,\n",
    "        filterable=True,\n",
    "    ),\n",
    "]"
   ]
  },
  {
   "cell_type": "code",
   "execution_count": 9,
   "metadata": {},
   "outputs": [],
   "source": [
    "# Adding a custom scoring profile with a freshness function\n",
    "sc_name = \"scoring_profile\"\n",
    "sc = ScoringProfile(\n",
    "    name=sc_name,\n",
    "    text_weights=TextWeights(weights={\"title\": 5}),\n",
    "    function_aggregation=\"sum\",\n",
    "    functions=[\n",
    "        FreshnessScoringFunction(\n",
    "            field_name=\"last_update\",\n",
    "            boost=100,\n",
    "            parameters=FreshnessScoringParameters(boosting_duration=\"P2D\"),\n",
    "            interpolation=\"linear\",\n",
    "        )\n",
    "    ],\n",
    ")\n",
    "\n",
    "index_name = \"langchain-vector-demo-custom-scoring-profile\"\n",
    "\n",
    "vector_store: AzureSearch = AzureSearch(\n",
    "    azure_search_endpoint=vector_store_address,\n",
    "    azure_search_key=vector_store_password,\n",
    "    index_name=index_name,\n",
    "    embedding_function=embeddings.embed_query,\n",
    "    fields=fields,\n",
    "    scoring_profiles=[sc],\n",
    "    default_scoring_profile=sc_name,\n",
    "\n",
    "    # 여기부터는 semantic search를 위한 설정임. sematic search 안쓸거면 필요없음.\n",
    "    semantic_configuration_name='semantic_config',\n",
    "    semantic_settings=SemanticSettings(\n",
    "        default_configuration='semantic_config',\n",
    "        configurations=[\n",
    "            SemanticConfiguration(\n",
    "                name='semantic_config',\n",
    "                prioritized_fields=PrioritizedFields(\n",
    "                    title_field=SemanticField(field_name='content'),                        \n",
    "                    prioritized_content_fields=[SemanticField(field_name='content')],\n",
    "                    prioritized_keywords_fields=[SemanticField(field_name='metadata')]\n",
    "                ))\n",
    "        ])  \n",
    ")\n",
    "\n"
   ]
  },
  {
   "cell_type": "code",
   "execution_count": 10,
   "metadata": {},
   "outputs": [
    {
     "data": {
      "text/plain": [
       "['Njc4ZDBhYmItNDUyMy00M2MwLWI4ZTktYmY4YmIyYzhlMGQ2',\n",
       " 'ZWZiMWZlYzYtYzE3MS00OWJhLTk4YTItMDY2MGI0Yjc0MTY4',\n",
       " 'ODQyNTZjYjctMzU1NC00OTMyLWE0NjMtNDZlMWI0MjU1YzA2']"
      ]
     },
     "execution_count": 10,
     "metadata": {},
     "output_type": "execute_result"
    }
   ],
   "source": [
    "# Adding same data with different last_update to show Scoring Profile effect\n",
    "from datetime import datetime, timedelta\n",
    "\n",
    "today = datetime.utcnow().strftime(\"%Y-%m-%dT%H:%M:%S-00:00\")\n",
    "yesterday = (datetime.utcnow() - timedelta(days=1)).strftime(\"%Y-%m-%dT%H:%M:%S-00:00\")\n",
    "one_month_ago = (datetime.utcnow() - timedelta(days=30)).strftime(\n",
    "    \"%Y-%m-%dT%H:%M:%S-00:00\"\n",
    ")\n",
    "\n",
    "vector_store.add_texts(\n",
    "    [\"Test 1\", \"Test 1\", \"Test 2\"],\n",
    "    [\n",
    "        {\n",
    "            \"title\": \"Title 1\",\n",
    "            \"source\": \"source1\",\n",
    "            \"random\": \"10290\",\n",
    "            \"last_update\": today,\n",
    "        },\n",
    "        {\n",
    "            \"title\": \"Title 2\",\n",
    "            \"source\": \"source2\",\n",
    "            \"random\": \"48392\",\n",
    "            \"last_update\": yesterday,\n",
    "        },\n",
    "        {\n",
    "            \"title\": \"Title 3\",\n",
    "            \"source\": \"source3\",\n",
    "            \"random\": \"32893\",\n",
    "            \"last_update\": one_month_ago,\n",
    "        },\n",
    "    ],\n",
    ")"
   ]
  },
  {
   "cell_type": "markdown",
   "metadata": {},
   "source": [
    "# Vector similarity search"
   ]
  },
  {
   "cell_type": "code",
   "execution_count": 13,
   "metadata": {},
   "outputs": [
    {
     "data": {
      "text/plain": [
       "[Document(page_content='Test 1', metadata={'id': 'OTc4NzgwMzktOThlNi00ZmFiLThlN2UtOTYzZDIyNDBlMDc3', 'title': 'Title 2', 'source': 'source2', 'random': '48392', 'last_update': '2024-01-17T07:58:26-00:00'}),\n",
       " Document(page_content='Test 1', metadata={'id': 'Njc4ZDBhYmItNDUyMy00M2MwLWI4ZTktYmY4YmIyYzhlMGQ2', 'title': 'Title 1', 'source': 'source1', 'random': '10290', 'last_update': '2024-01-18T08:05:15-00:00'}),\n",
       " Document(page_content='Test 1', metadata={'id': 'NWFiYWQ2ZmItN2QwZC00YzcxLTg3ZDQtYzhiMzE2OTc1ZTg1', 'title': 'Title 1', 'source': 'source1', 'random': '10290', 'last_update': '2024-01-18T07:58:26-00:00'})]"
      ]
     },
     "execution_count": 13,
     "metadata": {},
     "output_type": "execute_result"
    }
   ],
   "source": [
    "res = vector_store.similarity_search(\n",
    "    query=\"Test 1\", k=3, search_type=\"similarity\"\n",
    ")\n",
    "res"
   ]
  },
  {
   "cell_type": "markdown",
   "metadata": {},
   "source": [
    "# Hybrid search"
   ]
  },
  {
   "cell_type": "code",
   "execution_count": 14,
   "metadata": {},
   "outputs": [
    {
     "data": {
      "text/plain": [
       "[Document(page_content='Test 1', metadata={'id': 'OTc4NzgwMzktOThlNi00ZmFiLThlN2UtOTYzZDIyNDBlMDc3', 'title': 'Title 2', 'source': 'source2', 'random': '48392', 'last_update': '2024-01-17T07:58:26-00:00'}),\n",
       " Document(page_content='Test 1', metadata={'id': 'ZWZiMWZlYzYtYzE3MS00OWJhLTk4YTItMDY2MGI0Yjc0MTY4', 'title': 'Title 2', 'source': 'source2', 'random': '48392', 'last_update': '2024-01-17T08:05:15-00:00'})]"
      ]
     },
     "execution_count": 14,
     "metadata": {},
     "output_type": "execute_result"
    }
   ],
   "source": [
    "res = vector_store.similarity_search(\n",
    "    query=\"Test 1\", k=3, search_type=\"hybrid\",\n",
    "    filters=\"source eq 'source2'\"\n",
    ")\n",
    "res"
   ]
  },
  {
   "cell_type": "markdown",
   "metadata": {},
   "source": [
    "# Semantic reranking"
   ]
  },
  {
   "cell_type": "code",
   "execution_count": 15,
   "metadata": {},
   "outputs": [
    {
     "data": {
      "text/plain": [
       "[(Document(page_content='Test 1', metadata={'id': 'ZWZiMWZlYzYtYzE3MS00OWJhLTk4YTItMDY2MGI0Yjc0MTY4', 'title': 'Title 2', 'source': 'source2', 'random': '48392', 'last_update': '2024-01-17T08:05:15-00:00', 'captions': {'text': 'Test 1. {\"title\": \"Title 2\", \"source\": \"source2\", \"random\": \"48392\", \"last_update\": \"2024-01-17T08:05:15-00:00\"}. Test 1.', 'highlights': '<em>Test 1.</em> {\"title\": \"Title 2\", \"source\": \"source2\", \"random\": \"48392\", \"last_update\": \"2024-01-17T08:05:15-00:00\"}.<em> Test 1.</em>'}, 'answers': ''}),\n",
       "  0.03306011110544205),\n",
       " (Document(page_content='Test 1', metadata={'id': 'OTc4NzgwMzktOThlNi00ZmFiLThlN2UtOTYzZDIyNDBlMDc3', 'title': 'Title 2', 'source': 'source2', 'random': '48392', 'last_update': '2024-01-17T07:58:26-00:00', 'captions': {'text': 'Test 1. {\"title\": \"Title 2\", \"source\": \"source2\", \"random\": \"48392\", \"last_update\": \"2024-01-17T07:58:26-00:00\"}. Test 1.', 'highlights': '<em>Test 1.</em> {\"title\": \"Title 2\", \"source\": \"source2\", \"random\": \"48392\", \"last_update\": \"2024-01-17T07:58:26-00:00\"}.<em> Test 1.</em>'}, 'answers': ''}),\n",
       "  0.03306011110544205)]"
      ]
     },
     "execution_count": 15,
     "metadata": {},
     "output_type": "execute_result"
    }
   ],
   "source": [
    "res = vector_store.semantic_hybrid_search_with_score(  \n",
    "    query=\"Test 1\", k=3,\n",
    "    filters=\"source eq 'source2'\"\n",
    ")\n",
    "res"
   ]
  },
  {
   "cell_type": "code",
   "execution_count": null,
   "metadata": {},
   "outputs": [],
   "source": []
  }
 ],
 "metadata": {
  "kernelspec": {
   "display_name": "Python 3",
   "language": "python",
   "name": "python3"
  },
  "language_info": {
   "codemirror_mode": {
    "name": "ipython",
    "version": 3
   },
   "file_extension": ".py",
   "mimetype": "text/x-python",
   "name": "python",
   "nbconvert_exporter": "python",
   "pygments_lexer": "ipython3",
   "version": "3.10.0"
  },
  "orig_nbformat": 4
 },
 "nbformat": 4,
 "nbformat_minor": 2
}
