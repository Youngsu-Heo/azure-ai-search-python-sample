{
 "cells": [
  {
   "attachments": {},
   "cell_type": "markdown",
   "metadata": {},
   "source": [
    "# Azure AI Search LangChain vector code sample\n",
    "\n",
    "Execution environment used for testing is `python 3.10.0`"
   ]
  },
  {
   "cell_type": "code",
   "execution_count": 10,
   "metadata": {},
   "outputs": [],
   "source": [
    "# pip install -r requirements.txt"
   ]
  },
  {
   "attachments": {},
   "cell_type": "markdown",
   "metadata": {},
   "source": [
    "## Import required libraries and environment variables"
   ]
  },
  {
   "cell_type": "code",
   "execution_count": 1,
   "metadata": {},
   "outputs": [],
   "source": [
    "# Import required libraries  \n",
    "import openai\n",
    "import os  \n",
    "from dotenv import load_dotenv\n",
    "from langchain.embeddings import OpenAIEmbeddings, AzureOpenAIEmbeddings\n",
    "from langchain.vectorstores.azuresearch import AzureSearch\n",
    "from azure.search.documents.indexes.models import (\n",
    "    SemanticSettings,\n",
    "    SemanticConfiguration,\n",
    "    PrioritizedFields,\n",
    "    SemanticField\n",
    ")\n"
   ]
  },
  {
   "cell_type": "markdown",
   "metadata": {},
   "source": [
    "## Configure Azure OpenAI settings"
   ]
  },
  {
   "cell_type": "code",
   "execution_count": 3,
   "metadata": {},
   "outputs": [
    {
     "name": "stdout",
     "output_type": "stream",
     "text": [
      "https://52g-prompton-01.openai.azure.com/\n",
      "2023-10-01-preview\n",
      "text-embedding-ada-002\n"
     ]
    }
   ],
   "source": [
    "# TODO: change to .env-{myname} and set environment variables.\n",
    "load_dotenv(override=True, dotenv_path='../.env-leo')\n",
    "\n",
    "openai.api_type: str = \"azure\"  \n",
    "openai.api_key = os.getenv(\"AZURE_OPENAI_API_KEY\")  \n",
    "openai.api_base = os.getenv(\"AZURE_OPENAI_ENDPOINT\")\n",
    "openai.api_version = os.getenv(\"AZURE_OPENAI_API_VERSION\")  \n",
    "model: str = os.getenv(\"AZURE_OPENAI_EMBEDDING_DEPLOYED_MODEL\")\n",
    "\n",
    "print(openai.api_base)\n",
    "print(openai.api_version)\n",
    "print(model)"
   ]
  },
  {
   "cell_type": "markdown",
   "metadata": {},
   "source": [
    "## Configure vector store settings"
   ]
  },
  {
   "cell_type": "code",
   "execution_count": 4,
   "metadata": {},
   "outputs": [
    {
     "name": "stdout",
     "output_type": "stream",
     "text": [
      "https://ai-search-korea-central.search.windows.net\n",
      "langchain-vector-demo-leo\n"
     ]
    }
   ],
   "source": [
    "vector_store_address: str = os.getenv(\"AZURE_SEARCH_SERVICE_ENDPOINT\")  \n",
    "vector_store_password: str = os.getenv(\"AZURE_SEARCH_ADMIN_KEY\") \n",
    "index_name: str = os.getenv(\"AZURE_SEARCH_INDEX_NAME\") # .env 환경변수에서 자기만의 인덱스 이름을 설정하세요.\n",
    "\n",
    "print(vector_store_address)\n",
    "print(index_name)"
   ]
  },
  {
   "attachments": {},
   "cell_type": "markdown",
   "metadata": {},
   "source": [
    "## Create embeddings and vector store instances\n",
    "Read your data, generate OpenAI embeddings and export to a format to insert your search index:"
   ]
  },
  {
   "cell_type": "code",
   "execution_count": 5,
   "metadata": {},
   "outputs": [
    {
     "name": "stderr",
     "output_type": "stream",
     "text": [
      "/Users/leo/.pyenv/versions/3.10.0/envs/azure-search-vector-samples/lib/python3.10/site-packages/langchain_core/_api/deprecation.py:189: LangChainDeprecationWarning: The class `AzureOpenAIEmbeddings` was deprecated in LangChain 0.1.0 and will be removed in 0.2.0. Use langchain_openai.AzureOpenAIEmbeddings instead.\n",
      "  warn_deprecated(\n",
      "/Users/leo/.pyenv/versions/3.10.0/envs/azure-search-vector-samples/lib/python3.10/site-packages/langchain_core/_api/deprecation.py:189: LangChainDeprecationWarning: The class `OpenAIEmbeddings` was deprecated in LangChain 0.1.0 and will be removed in 0.2.0. Use langchain_openai.OpenAIEmbeddings instead.\n",
      "  warn_deprecated(\n"
     ]
    }
   ],
   "source": [
    "# Create an embedding object\n",
    "embeddings: OpenAIEmbeddings = AzureOpenAIEmbeddings(\n",
    "    azure_deployment=model, model=model, chunk_size=1, \n",
    "    azure_endpoint=openai.api_base,\n",
    "    api_key=openai.api_key,\n",
    "    openai_api_type=openai.api_type,\n",
    "    api_version=openai.api_version,\n",
    ")\n",
    "\n",
    "# Create an index in Azure Search\n",
    "vector_store: AzureSearch = AzureSearch(    \n",
    "    azure_search_endpoint=vector_store_address,\n",
    "    azure_search_key=vector_store_password,\n",
    "    index_name=index_name,\n",
    "    embedding_function=embeddings.embed_query,\n",
    "    semantic_configuration_name='config',\n",
    "        semantic_settings=SemanticSettings(\n",
    "            default_configuration='config',\n",
    "            configurations=[\n",
    "                SemanticConfiguration(\n",
    "                    name='config',\n",
    "                    prioritized_fields=PrioritizedFields(\n",
    "                        title_field=SemanticField(field_name='content'),\n",
    "                        prioritized_content_fields=[SemanticField(field_name='content')],\n",
    "                        prioritized_keywords_fields=[SemanticField(field_name='metadata')]\n",
    "                    ))\n",
    "            ])\n",
    "    )"
   ]
  },
  {
   "cell_type": "markdown",
   "metadata": {},
   "source": [
    "## Insert text and embeddings into vector store\n",
    "\n",
    "From here on, it is the same as the existing LangChain usage method."
   ]
  },
  {
   "cell_type": "code",
   "execution_count": 6,
   "metadata": {},
   "outputs": [
    {
     "data": {
      "text/plain": [
       "['YTE1MTZjMjctMjcwOC00NDQxLWJhMDUtOTUwMGUzMWE1MTAw',\n",
       " 'Njk3MzhjNDMtNzcwNS00MDhhLTllYTgtNjZhNGRkYTE4ZTZk',\n",
       " 'NGNhZTQ1N2ItNDhhZi00OGFjLWI5ZDktY2Y2ZDIyMzM1ZTU1',\n",
       " 'N2IwM2JmMTItNjU3Ny00MWZkLWI4NzYtNzBjNTAxYjlkZjg1',\n",
       " 'NTk0MmQxMTMtMDhhZC00Mjc1LWFlYTMtYjE5ZmIwOTQ5ZjU4',\n",
       " 'NzU1Y2IyNWYtMTZkNC00YWRkLWJmNjctOGNlZDVjN2Y3NmYy',\n",
       " 'YjcxMDg1YTYtOTRlMS00OTkzLTkyNzQtOTU1YWI0ZjUyZjhl',\n",
       " 'N2E1NjFkMTUtZTUxOC00ZDYxLTk3NmYtZGNmZWUxMDhkNDk1',\n",
       " 'NjQwZTcwY2ItZDVmNS00YmM0LWI3ZmYtMWQyMjhhMzM4Y2Nj',\n",
       " 'OWEwZmU0ZjktZjk0NC00ZGIxLWJkZjAtYTUxZjRhYTNlNzYx',\n",
       " 'YzljOWM2NjgtZDRhOS00ZDI4LTgxMWQtNWY0ZDEyOGZmZTE1',\n",
       " 'ZjdhMTkwOGYtMDhkYS00N2ZhLTg0NmItZmMxNzU4OGJhZWIy',\n",
       " 'Nzk0MmJmYTItNjg1Yi00MDQ1LTg0MmYtMGNmNjg0ZWQ5NDNm',\n",
       " 'ZmNjODNjYjgtNmYwZS00NWFlLWE0YTktYjExMTE5MDQ2OWJh',\n",
       " 'NTM1MmM5ZTEtNDhkOS00OTBkLWJjN2YtZjI3OTYzOWNkZmRl',\n",
       " 'MWMzZjg1ZDQtNjg1Yi00MmU1LTgwNmUtZmZiODY1MTUyODBj',\n",
       " 'ZTUzMDU4MjctOGI2Ny00MDNhLTlkNjQtNjRmN2ZjNWY1ZWI4',\n",
       " 'NjE5OTZmZDctYzQwYy00NGI0LWI2YTctMWQzZjI1MmQ5NGFi',\n",
       " 'YjIxNGQ3ODEtMTg3NC00YTk2LThkODctMDE5ODg3NDNhNTA1',\n",
       " 'NjczM2FiMDgtYTUwNC00NDA3LWIwY2ItNjE1NTM3MDA0M2Nm',\n",
       " 'M2MxYzM4ZjYtMzg4Yy00NjAyLWE0YTQtMWNhZDk3YzBkMTQ0',\n",
       " 'ZDU3MDg3MTktYjc5OS00YTI1LWFmNGQtZmYzYmZiYThmZTUy',\n",
       " 'ZDQ3MmY2MTYtNDdlZi00NWIwLThlZmYtNTMxNjIxNWRmN2Zj',\n",
       " 'NzY5NTkwOTAtZTc4My00NDkyLWEzY2EtMDNhMjdhNDg2Mzcx',\n",
       " 'MThkMmJjODgtMzQ0MS00ZTkwLTk1MzItNDk2NmY0YmI1MGJh',\n",
       " 'ZWJlZjRlYTgtZTBmZC00NTBhLWJiY2ItODljNGNlNjIyODU2',\n",
       " 'NjJmOWRmMTMtNmMyMS00NGEzLTg3ZWYtODI0YjliNWM0NjFi',\n",
       " 'MDZmODZiZjktZGRkMC00MzM3LTg2M2YtZmRhYjc0MmQwZjBj',\n",
       " 'YWMzMTY3NTYtMzhiOC00N2RlLWI5ZDQtYjcyYTI2YTA2NWQw',\n",
       " 'MWFmNmRjYTQtMDNmYi00YmNkLTk1OGQtM2ZkMjk5YzdiNDIz',\n",
       " 'NmY2YzM5YWEtZjIxMy00NjJmLWE2NDYtYTdiYWU3ZmUwYWQz',\n",
       " 'NTcyZjRhMTMtZTZhZS00NjE1LTk3MjctNzcwZThlMTk3NmQ3',\n",
       " 'YjM2YjBiMGQtMjZlOS00NGQwLWIzYzAtOWU2ZDg5MDg5ODdl',\n",
       " 'MjI3YTQxMWYtNTZjNy00ODFlLWIwNDgtYWQ2NjgxMTc1NjI5',\n",
       " 'MTI3Yjk2ZDEtYWNiNS00YTFiLTgxMjAtMDQ1OThmOGNlYTk1',\n",
       " 'MGIxMjlmNzMtMjBkZC00ZGM0LThlZWQtMjVhODcwZDVkYjZl',\n",
       " 'M2ExNDBiNjEtYmQ0OC00MGY1LTljMWQtZmU1YzQ2NTUyNDEy',\n",
       " 'NWNlMjJkOTgtYTY0MC00MzM5LTgzZTgtM2Q5Y2EzMWQ1YWZi',\n",
       " 'MDY1MzBkOTctOGNiOS00Y2UzLWI2YTItMTdkNDk3NGZmNDI4',\n",
       " 'ZDc5NGU2MmEtNWIzMS00YmM2LWEwNjUtOTQxNzVhMGNhN2Y4',\n",
       " 'NDY2Y2VmYzItYTdhNC00Y2IzLThiNjYtMzU2MWNiNTBjMWJj',\n",
       " 'YWI1NzEwNGMtZTQ2Ny00ZTcyLWJkYTItNzEwMzI5MTEyZGJj']"
      ]
     },
     "execution_count": 6,
     "metadata": {},
     "output_type": "execute_result"
    }
   ],
   "source": [
    "from langchain.document_loaders import TextLoader\n",
    "from langchain.text_splitter import CharacterTextSplitter\n",
    "\n",
    "loader = TextLoader(\"../data/sample-data/state_of_the_union.txt\", encoding=\"utf-8\")\n",
    "\n",
    "documents = loader.load()\n",
    "text_splitter = CharacterTextSplitter(chunk_size=1000, chunk_overlap=0)\n",
    "docs = text_splitter.split_documents(documents)\n",
    "\n",
    "vector_store.add_documents(documents=docs)"
   ]
  },
  {
   "cell_type": "markdown",
   "metadata": {},
   "source": [
    "## Perform a vector similarity search"
   ]
  },
  {
   "cell_type": "code",
   "execution_count": 7,
   "metadata": {},
   "outputs": [
    {
     "name": "stdout",
     "output_type": "stream",
     "text": [
      "Tonight. I call on the Senate to: Pass the Freedom to Vote Act. Pass the John Lewis Voting Rights Act. And while you’re at it, pass the Disclose Act so Americans can know who is funding our elections. \n",
      "\n",
      "Tonight, I’d like to honor someone who has dedicated his life to serve this country: Justice Stephen Breyer—an Army veteran, Constitutional scholar, and retiring Justice of the United States Supreme Court. Justice Breyer, thank you for your service. \n",
      "\n",
      "One of the most serious constitutional responsibilities a President has is nominating someone to serve on the United States Supreme Court. \n",
      "\n",
      "And I did that 4 days ago, when I nominated Circuit Court of Appeals Judge Ketanji Brown Jackson. One of our nation’s top legal minds, who will continue Justice Breyer’s legacy of excellence.\n"
     ]
    }
   ],
   "source": [
    "# Perform a similarity search\n",
    "docs = vector_store.similarity_search(\n",
    "    query=\"What did the president say about Ketanji Brown Jackson\",\n",
    "    k=10,\n",
    "    search_type=\"similarity\",\n",
    ")\n",
    "print(docs[0].page_content)"
   ]
  },
  {
   "cell_type": "markdown",
   "metadata": {},
   "source": [
    "## Perform a hybrid search"
   ]
  },
  {
   "cell_type": "code",
   "execution_count": 8,
   "metadata": {},
   "outputs": [
    {
     "name": "stdout",
     "output_type": "stream",
     "text": [
      "Tonight. I call on the Senate to: Pass the Freedom to Vote Act. Pass the John Lewis Voting Rights Act. And while you’re at it, pass the Disclose Act so Americans can know who is funding our elections. \n",
      "\n",
      "Tonight, I’d like to honor someone who has dedicated his life to serve this country: Justice Stephen Breyer—an Army veteran, Constitutional scholar, and retiring Justice of the United States Supreme Court. Justice Breyer, thank you for your service. \n",
      "\n",
      "One of the most serious constitutional responsibilities a President has is nominating someone to serve on the United States Supreme Court. \n",
      "\n",
      "And I did that 4 days ago, when I nominated Circuit Court of Appeals Judge Ketanji Brown Jackson. One of our nation’s top legal minds, who will continue Justice Breyer’s legacy of excellence.\n"
     ]
    }
   ],
   "source": [
    "# Perform a hybrid search\n",
    "docs = vector_store.similarity_search(\n",
    "    query=\"What did the president say about Ketanji Brown Jackson\",\n",
    "    k=10, \n",
    "    search_type=\"hybrid\"\n",
    ")\n",
    "print(docs[0].page_content)"
   ]
  },
  {
   "cell_type": "markdown",
   "metadata": {},
   "source": [
    "## Perform a hybrid search with semantic reranking (powered by Bing)"
   ]
  },
  {
   "cell_type": "code",
   "execution_count": 9,
   "metadata": {},
   "outputs": [
    {
     "name": "stdout",
     "output_type": "stream",
     "text": [
      "--------------------------------------------------------------------------------\n",
      "Content: Tonight. I call on the Senate to: Pass the Freedom to Vote Act. Pass the John Lewis Voting Rights Act. And while you’re at it, pass the Disclose Act so Americans can know who is funding our elections. \n",
      "\n",
      "Tonight, I’d like to honor someone who has dedicated his life to serve this country: Justice Stephen Breyer—an Army veteran, Constitutional scholar, and retiring Justice of the United States Supreme Court. Justice Breyer, thank you for your service. \n",
      "\n",
      "One of the most serious constitutional responsibilities a President has is nominating someone to serve on the United States Supreme Court. \n",
      "\n",
      "And I did that 4 days ago, when I nominated Circuit Court of Appeals Judge Ketanji Brown Jackson. One of our nation’s top legal minds, who will continue Justice Breyer’s legacy of excellence.\n",
      "Score: 0.03333333507180214\n",
      "Caption: One of the most serious constitutional responsibilities a President has is nominating someone to serve on the United States Supreme Court. And I did that 4 days ago, when I nominated Circuit Court of Appeals Judge Ketanji Brown Jackson. One of our nation’s top legal minds, who will continue Justice Breyer’s legacy of excellence..\u0000\n",
      "--------------------------------------------------------------------------------\n",
      "Content: We’re going after the criminals who stole billions in relief money meant for small businesses and millions of Americans.  \n",
      "\n",
      "And tonight, I’m announcing that the Justice Department will name a chief prosecutor for pandemic fraud. \n",
      "\n",
      "By the end of this year, the deficit will be down to less than half what it was before I took office.  \n",
      "\n",
      "The only president ever to cut the deficit by more than one trillion dollars in a single year. \n",
      "\n",
      "Lowering your costs also means demanding more competition. \n",
      "\n",
      "I’m a capitalist, but capitalism without competition isn’t capitalism. \n",
      "\n",
      "It’s exploitation—and it drives up prices. \n",
      "\n",
      "When corporations don’t have to compete, their profits go up, your prices go up, and small businesses and family farmers and ranchers go under. \n",
      "\n",
      "We see it happening with ocean carriers moving goods in and out of America. \n",
      "\n",
      "During the pandemic, these foreign-owned companies raised prices by as much as 1,000% and made record profits.\n",
      "Score: 0.029857397079467773\n",
      "Caption: The only president ever to cut the deficit by more than one trillion dollars in a single year. Lowering your costs also means demanding more competition. I’m a capitalist, but capitalism without competition isn’t capitalism. It’s exploitation—and it drives up prices.\n",
      "--------------------------------------------------------------------------------\n",
      "Content: And built the strongest, freest, and most prosperous nation the world has ever known. \n",
      "\n",
      "Now is the hour. \n",
      "\n",
      "Our moment of responsibility. \n",
      "\n",
      "Our test of resolve and conscience, of history itself. \n",
      "\n",
      "It is in this moment that our character is formed. Our purpose is found. Our future is forged. \n",
      "\n",
      "Well I know this nation.  \n",
      "\n",
      "We will meet the test. \n",
      "\n",
      "To protect freedom and liberty, to expand fairness and opportunity. \n",
      "\n",
      "We will save democracy. \n",
      "\n",
      "As hard as these times have been, I am more optimistic about America today than I have been my whole life. \n",
      "\n",
      "Because I see the future that is within our grasp. \n",
      "\n",
      "Because I know there is simply nothing beyond our capacity. \n",
      "\n",
      "We are the only nation on Earth that has always turned every crisis we have faced into an opportunity. \n",
      "\n",
      "The only nation that can be defined by a single word: possibilities. \n",
      "\n",
      "So on this night, in our 245th year as a nation, I have come to report on the State of the Union.\n",
      "Score: 0.02580752596259117\n",
      "Caption: To protect freedom and liberty, to expand fairness and opportunity. We<em> will</em> save democracy. As hard as these times<em> have</em> been, I<em> am</em> more optimistic about America today than I<em> have</em> been my whole life. Because I see the future that<em> is</em> within our grasp. Because I know there<em> is</em> simply nothing beyond our capacity.\n",
      "--------------------------------------------------------------------------------\n",
      "Content: Second – we must prepare for new variants. Over the past year, we’ve gotten much better at detecting new variants. \n",
      "\n",
      "If necessary, we’ll be able to deploy new vaccines within 100 days instead of many more months or years.  \n",
      "\n",
      "And, if Congress provides the funds we need, we’ll have new stockpiles of tests, masks, and pills ready if needed. \n",
      "\n",
      "I cannot promise a new variant won’t come. But I can promise you we’ll do everything within our power to be ready if it does.  \n",
      "\n",
      "Third – we can end the shutdown of schools and businesses. We have the tools we need. \n",
      "\n",
      "It’s time for Americans to get back to work and fill our great downtowns again.  People working from home can feel safe to begin to return to the office.   \n",
      "\n",
      "We’re doing that here in the federal government. The vast majority of federal workers will once again work in person. \n",
      "\n",
      "Our schools are open. Let’s keep it that way. Our kids need to be in school.\n",
      "Score: 0.022634271532297134\n",
      "Caption: I cannot promise a new variant won’t come. But I<em> can</em> promise you we’ll<em> do</em> everything within our power to be ready if it<em> does.</em> Third – we<em> can</em> end the shutdown of schools and businesses. We have the tools we need. It’s time for Americans to get back to work and fill our great downtowns again.\n",
      "--------------------------------------------------------------------------------\n",
      "Content: And I’m taking robust action to make sure the pain of our sanctions  is targeted at Russia’s economy. And I will use every tool at our disposal to protect American businesses and consumers. \n",
      "\n",
      "Tonight, I can announce that the United States has worked with 30 other countries to release 60 Million barrels of oil from reserves around the world.  \n",
      "\n",
      "America will lead that effort, releasing 30 Million barrels from our own Strategic Petroleum Reserve. And we stand ready to do more if necessary, unified with our allies.  \n",
      "\n",
      "These steps will help blunt gas prices here at home. And I know the news about what’s happening can seem alarming. \n",
      "\n",
      "But I want you to know that we are going to be okay. \n",
      "\n",
      "When the history of this era is written Putin’s war on Ukraine will have left Russia weaker and the rest of the world stronger. \n",
      "\n",
      "While it shouldn’t have taken something so terrible for people around the world to see what’s at stake now everyone sees it clearly.\n",
      "Score: 0.02589375153183937\n",
      "Caption: Tonight, I<em> can</em> announce that the United States has worked with 30 other countries to release 60 Million barrels of oil from reserves around the world. America<em> will</em> lead that effort, releasing 30 Million barrels from our own Strategic Petroleum Reserve. And we stand ready to<em> do</em> more if necessary, unified with our allies.\n",
      "--------------------------------------------------------------------------------\n",
      "Content: And tonight I am announcing that we will join our allies in closing off American air space to all Russian flights – further isolating Russia – and adding an additional squeeze –on their economy. The Ruble has lost 30% of its value. \n",
      "\n",
      "The Russian stock market has lost 40% of its value and trading remains suspended. Russia’s economy is reeling and Putin alone is to blame. \n",
      "\n",
      "Together with our allies we are providing support to the Ukrainians in their fight for freedom. Military assistance. Economic assistance. Humanitarian assistance. \n",
      "\n",
      "We are giving more than $1 Billion in direct assistance to Ukraine. \n",
      "\n",
      "And we will continue to aid the Ukrainian people as they defend their country and to help ease their suffering.  \n",
      "\n",
      "Let me be clear, our forces are not engaged and will not engage in conflict with Russian forces in Ukraine.  \n",
      "\n",
      "Our forces are not going to Europe to fight in Ukraine, but to defend our NATO Allies – in the event that Putin decides to keep moving west.\n",
      "Score: 0.02031765691936016\n",
      "Caption: The Ruble has lost 30% of its value. The Russian stock market has lost 40% of its value and trading remains suspended. Russia’s economy<em> is</em> reeling and Putin alone<em> is</em> to blame. Together with our allies we<em> are</em> providing support to the Ukrainians in their fight for freedom. Military assistance. Economic assistance. Humanitarian assistance.\n",
      "--------------------------------------------------------------------------------\n",
      "Content: A former top litigator in private practice. A former federal public defender. And from a family of public school educators and police officers. A consensus builder. Since she’s been nominated, she’s received a broad range of support—from the Fraternal Order of Police to former judges appointed by Democrats and Republicans. \n",
      "\n",
      "And if we are to advance liberty and justice, we need to secure the Border and fix the immigration system. \n",
      "\n",
      "We can do both. At our border, we’ve installed new technology like cutting-edge scanners to better detect drug smuggling.  \n",
      "\n",
      "We’ve set up joint patrols with Mexico and Guatemala to catch more human traffickers.  \n",
      "\n",
      "We’re putting in place dedicated immigration judges so families fleeing persecution and violence can have their cases heard faster. \n",
      "\n",
      "We’re securing commitments and supporting partners in South and Central America to host more refugees and secure their own borders.\n",
      "Score: 0.027146130800247192\n",
      "Caption: A former top litigator in private practice. A former federal public defender. And from a family of public school educators and police officers. A consensus builder. Since she’s been nominated, she’s received a broad range of support—from the Fraternal Order of Police to former judges appointed by Democrats and Republicans.\n",
      "--------------------------------------------------------------------------------\n",
      "Content: So let’s not abandon our streets. Or choose between safety and equal justice. \n",
      "\n",
      "Let’s come together to protect our communities, restore trust, and hold law enforcement accountable. \n",
      "\n",
      "That’s why the Justice Department required body cameras, banned chokeholds, and restricted no-knock warrants for its officers. \n",
      "\n",
      "That’s why the American Rescue Plan provided $350 Billion that cities, states, and counties can use to hire more police and invest in proven strategies like community violence interruption—trusted messengers breaking the cycle of violence and trauma and giving young people hope.  \n",
      "\n",
      "We should all agree: The answer is not to Defund the police. The answer is to FUND the police with the resources and training they need to protect our communities. \n",
      "\n",
      "I ask Democrats and Republicans alike: Pass my budget and keep our neighborhoods safe.\n",
      "Score: 0.023296525701880455\n",
      "Caption: So let’s not abandon our streets. Or choose between safety and equal justice. Let’s come together to protect our communities, restore trust, and hold law enforcement accountable. That’s why the Justice Department required body cameras, banned chokeholds, and restricted no-knock warrants for its officers.\n",
      "--------------------------------------------------------------------------------\n",
      "Content: There is so much we can do. Increase funding for prevention, treatment, harm reduction, and recovery.  \n",
      "\n",
      "Get rid of outdated rules that stop doctors from prescribing treatments. And stop the flow of illicit drugs by working with state and local law enforcement to go after traffickers. \n",
      "\n",
      "If you’re suffering from addiction, know you are not alone. I believe in recovery, and I celebrate the 23 million Americans in recovery. \n",
      "\n",
      "Second, let’s take on mental health. Especially among our children, whose lives and education have been turned upside down.  \n",
      "\n",
      "The American Rescue Plan gave schools money to hire teachers and help students make up for lost learning.  \n",
      "\n",
      "I urge every parent to make sure your school does just that. And we can all play a part—sign up to be a tutor or a mentor. \n",
      "\n",
      "Children were also struggling before the pandemic. Bullying, violence, trauma, and the harms of social media.\n",
      "Score: 0.022893773391842842\n",
      "Caption: And stop the flow of illicit drugs by working with state and local law enforcement to go after traffickers. If you’re suffering from addiction, know you<em> are</em> not alone. I believe in recovery, and I celebrate the 23 million Americans in recovery. Second, let’s take on mental health.\n",
      "--------------------------------------------------------------------------------\n",
      "Content: And so many families are living paycheck to paycheck, struggling to keep up with the rising cost of food, gas, housing, and so much more. \n",
      "\n",
      "I understand. \n",
      "\n",
      "I remember when my Dad had to leave our home in Scranton, Pennsylvania to find work. I grew up in a family where if the price of food went up, you felt it. \n",
      "\n",
      "That’s why one of the first things I did as President was fight to pass the American Rescue Plan.  \n",
      "\n",
      "Because people were hurting. We needed to act, and we did. \n",
      "\n",
      "Few pieces of legislation have done more in a critical moment in our history to lift us out of crisis. \n",
      "\n",
      "It fueled our efforts to vaccinate the nation and combat COVID-19. It delivered immediate economic relief for tens of millions of Americans.  \n",
      "\n",
      "Helped put food on their table, keep a roof over their heads, and cut the cost of health insurance. \n",
      "\n",
      "And as my Dad used to say, it gave people a little breathing room.\n",
      "Score: 0.02955133654177189\n",
      "Caption: That’s why one of the first things I<em> did</em> as<em> President was</em> fight to pass the American Rescue Plan. Because people<em> were</em> hurting. We needed to act, and we<em> did.</em> Few pieces of legislation have done more in a critical moment in our history to lift us out of crisis. It fueled our efforts to vaccinate the nation and combat COVID-19.\n"
     ]
    }
   ],
   "source": [
    "# Perform a hybrid search with semantic reranking  \n",
    "docs_and_scores = vector_store.semantic_hybrid_search_with_score(  \n",
    "    query=\"What did the president say about Ketanji Brown Jackson\",  \n",
    "    k=10,  \n",
    ")  \n",
    "  \n",
    "# Print the results  \n",
    "for doc, score in docs_and_scores:  \n",
    "    print(\"-\" * 80)  \n",
    "    answers = doc.metadata['answers']  \n",
    "    if answers:  \n",
    "        if answers.get('highlights'):  \n",
    "            print(f\"Semantic Answer: {answers['highlights']}\")  \n",
    "        else:  \n",
    "            print(f\"Semantic Answer: {answers['text']}\")  \n",
    "        print(f\"Semantic Answer Score: {score}\")  \n",
    "    print(\"Content:\", doc.page_content)  \n",
    "    captions = doc.metadata['captions']\n",
    "    print(f\"Score: {score}\") \n",
    "    if captions:  \n",
    "        if captions.get('highlights'):  \n",
    "            print(f\"Caption: {captions['highlights']}\")  \n",
    "        else:  \n",
    "            print(f\"Caption: {captions['text']}\")  \n",
    "    else:  \n",
    "        print(\"Caption not available\")  \n"
   ]
  },
  {
   "cell_type": "code",
   "execution_count": null,
   "metadata": {},
   "outputs": [],
   "source": []
  }
 ],
 "metadata": {
  "kernelspec": {
   "display_name": "Python 3",
   "language": "python",
   "name": "python3"
  },
  "language_info": {
   "codemirror_mode": {
    "name": "ipython",
    "version": 3
   },
   "file_extension": ".py",
   "mimetype": "text/x-python",
   "name": "python",
   "nbconvert_exporter": "python",
   "pygments_lexer": "ipython3",
   "version": "3.10.0"
  },
  "orig_nbformat": 4
 },
 "nbformat": 4,
 "nbformat_minor": 2
}
